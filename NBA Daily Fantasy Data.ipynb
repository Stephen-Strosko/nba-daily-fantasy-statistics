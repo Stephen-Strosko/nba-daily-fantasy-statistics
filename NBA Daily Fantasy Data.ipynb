{
 "cells": [
  {
   "cell_type": "code",
   "execution_count": null,
   "metadata": {},
   "outputs": [],
   "source": [
    "import datetime\n",
    "import logging\n",
    "import requests\n",
    "import time\n",
    "import pandas as pd\n",
    "\n",
    "from bs4 import BeautifulSoup\n",
    "from draft_kings import Client, Sport\n",
    "from selenium import webdriver\n",
    "from selenium.webdriver.chrome.options import Options"
   ]
  },
  {
   "cell_type": "code",
   "execution_count": null,
   "metadata": {},
   "outputs": [],
   "source": [
    "def setup_driver():\n",
    "    options = Options()\n",
    "    options.add_argument('log-level=3')\n",
    "    return webdriver.Chrome(options=options)"
   ]
  },
  {
   "cell_type": "code",
   "execution_count": null,
   "metadata": {},
   "outputs": [],
   "source": [
    "season_long = [\n",
    "    \"https://www.cbssports.com/fantasy/basketball/stats/G/2020/ytd/stats/\",\n",
    "    \"https://www.cbssports.com/fantasy/basketball/stats/F/2020/ytd/stats/\",\n",
    "    \"https://www.cbssports.com/fantasy/basketball/stats/C/2020/ytd/stats/\",\n",
    "    \"https://www.cbssports.com/fantasy/basketball/stats/PG/2020/ytd/stats/\",\n",
    "    \"https://www.cbssports.com/fantasy/basketball/stats/SG/2020/ytd/stats/\",\n",
    "    \"https://www.cbssports.com/fantasy/basketball/stats/PF/2020/ytd/stats/\",\n",
    "    \"https://www.cbssports.com/fantasy/basketball/stats/SF/2020/ytd/stats/\"\n",
    "]\n",
    "last_7 = [\n",
    "    \"https://www.cbssports.com/fantasy/basketball/stats/G/2020/7d/stats/\",\n",
    "    \"https://www.cbssports.com/fantasy/basketball/stats/F/2020/7d/stats/\",\n",
    "    \"https://www.cbssports.com/fantasy/basketball/stats/C/2020/7d/stats/\",\n",
    "    \"https://www.cbssports.com/fantasy/basketball/stats/PG/2020/7d/stats/\",\n",
    "    \"https://www.cbssports.com/fantasy/basketball/stats/SG/2020/7d/stats/\",\n",
    "    \"https://www.cbssports.com/fantasy/basketball/stats/PF/2020/7d/stats/\",\n",
    "    \"https://www.cbssports.com/fantasy/basketball/stats/SF/2020/7d/stats/\"\n",
    "]\n",
    "last_14 = [\n",
    "    \"https://www.cbssports.com/fantasy/basketball/stats/G/2020/14d/stats/\",\n",
    "    \"https://www.cbssports.com/fantasy/basketball/stats/F/2020/14d/stats/\",\n",
    "    \"https://www.cbssports.com/fantasy/basketball/stats/C/2020/14d/stats/\",\n",
    "    \"https://www.cbssports.com/fantasy/basketball/stats/PG/2020/14d/stats/\",\n",
    "    \"https://www.cbssports.com/fantasy/basketball/stats/SG/2020/14d/stats/\",\n",
    "    \"https://www.cbssports.com/fantasy/basketball/stats/PF/2020/14d/stats/\",\n",
    "    \"https://www.cbssports.com/fantasy/basketball/stats/SF/2020/14d/stats/\"\n",
    "]"
   ]
  },
  {
   "cell_type": "markdown",
   "metadata": {},
   "source": [
    "## User Inputs Below"
   ]
  },
  {
   "cell_type": "code",
   "execution_count": null,
   "metadata": {},
   "outputs": [],
   "source": [
    "# This is the only place users need to input their own preferences\n",
    "\n",
    "# Choose data for season (season_long), the last 7 games (last_7), or the last 14 games (last_14)\n",
    "url_list = season_long\n",
    "\n",
    "# Choose your date and time that you want draftkings information salary prices for EX: 2020-12-22 00:30\n",
    "# Note date needs to be in UTC time which is 6 hours ahead of EST time.\n",
    "# Therefore a 7PM game slate on 2020-12-22 EST will be 2020-12-23 00:30 UTC.\n",
    "date = 'YYYY-MM-DD HH:MM'"
   ]
  },
  {
   "cell_type": "code",
   "execution_count": null,
   "metadata": {},
   "outputs": [],
   "source": []
  },
  {
   "cell_type": "code",
   "execution_count": null,
   "metadata": {},
   "outputs": [],
   "source": [
    "# Starts up Selenium and collects data from CBS\n",
    "date = datetime.datetime.strptime(date, '%Y-%m-%d %H:%M')\n",
    "df_list = []\n",
    "driver = setup_driver()\n",
    "for link in url_list:\n",
    "    driver.get(link)\n",
    "    logging.info(f\"Getting {link} data.\")\n",
    "    time.sleep(5)\n",
    "    soup = BeautifulSoup(driver.page_source, 'html.parser')\n",
    "    table = soup.find(\"table\", {\"class\": \"TableBase-table\"})\n",
    "    df = pd.read_html(str(table), header=0)[0]\n",
    "    df = df.replace({'—': 0}, regex=True)\n",
    "    df_list.append(df)\n",
    "all_players = pd.concat(df_list)\n",
    "all_players[[\"position\", \"team\", \"Name\", \"position_2\"]] = all_players.Player.str.extract(\n",
    "    \"\\D (SG|PG|SF|C|PF|F|G)\\s+([A-Z]+)\\s+(\\D+) (SG|PG|SF|C|PF|F|G) \", expand=True)\n",
    "all_players = all_players.drop_duplicates(subset='Name')\n",
    "all_players = all_players.drop(columns=['Player', 'position_2'])\n",
    "driver.quit()"
   ]
  },
  {
   "cell_type": "code",
   "execution_count": null,
   "metadata": {},
   "outputs": [],
   "source": [
    "# Read in draftkings data for selected slate and game_type\n",
    "possible_groups = []\n",
    "for game in Client().contests(sport=Sport.NBA).contests:\n",
    "    slate_time = datetime.datetime.strptime(\n",
    "        f\"{game.starts_at.year}-{game.starts_at.month}-{game.starts_at.day} {game.starts_at.time().hour}:{game.starts_at.time().minute}\", '%Y-%m-%d %H:%M')\n",
    "    if slate_time == date:\n",
    "        possible_groups.append(game.draft_group_id)\n",
    "key_length = 0\n",
    "key_slate = 0\n",
    "type_id = 70\n",
    "for group in set(possible_groups):\n",
    "    if Client().draft_group_details(draft_group_id=group).contest_details.type_id == type_id:\n",
    "        group_length = len(Client().draft_group_details(draft_group_id=group).games)\n",
    "        if group_length > key_length:\n",
    "            key_length = group_length\n",
    "            key_slate = group\n",
    "data = pd.read_csv(f\"https://www.draftkings.com/lineup/getavailableplayerscsv?contestTypeId={type_id}&draftGroupId={key_slate}\")"
   ]
  },
  {
   "cell_type": "code",
   "execution_count": null,
   "metadata": {},
   "outputs": [],
   "source": [
    "# Clean and merge data\n",
    "data['Name'] = data['Name'].str.replace('.', '')\n",
    "all_players['Name'] = all_players['Name'].str.replace('.', '')\n",
    "data['Name'] = data['Name'].str.strip()\n",
    "all_players['Name'] = all_players['Name'].str.strip()\n",
    "merged_data = data.merge(all_players, on=\"Name\")"
   ]
  },
  {
   "cell_type": "code",
   "execution_count": null,
   "metadata": {},
   "outputs": [],
   "source": [
    "# Clean data columns\n",
    "merged_data.columns = [\n",
    "    'position', 'Name + ID', 'name', 'ID', 'Roster Position', 'salary',\n",
    "    'Game Info', 'team', 'fantasy_points_pg', 'games_played', 'games_started',\n",
    "    'fpts  Fantasy Points', 'min  Minutes', 'minutes_pg', 'fgm', 'fga', 'fg%',\n",
    "    'ftm', 'fta', 'ft%', '3pm', '3pa', '3fg%', 'pts', 'points_pg',\n",
    "    'reb  Total Rebounds', 'rebound_pg', 'ast  Assists', 'assist_pg',\n",
    "    'stl  Steals', 'steal_pg', 'to  Turnovers', 'turnover_pg', 'blk  Blocks',\n",
    "    'block_pg', 'position_2', 'team_2'\n",
    "]\n",
    "merged_data['games_played'] = merged_data['games_played'].astype(float)\n",
    "merged_data['fga'] = merged_data['fga'].astype(float)\n",
    "merged_data['fgm'] = merged_data['fgm'].astype(float)\n",
    "merged_data['ftm'] = merged_data['ftm'].astype(float)\n",
    "merged_data['fta'] = merged_data['fta'].astype(float)\n",
    "merged_data['3pm'] = merged_data['3pm'].astype(float)\n",
    "merged_data['3pa'] = merged_data['3pa'].astype(float)\n",
    "merged_data['field_goal_attempt_pg'] = (merged_data['fga'] / merged_data['games_played']).round(1)\n",
    "merged_data['field_goal_made_pg'] = (merged_data['fgm'] / merged_data['games_played']).round(1)\n",
    "merged_data['free_throw_made_pg'] = (merged_data['ftm'] / merged_data['games_played']).round(1)\n",
    "merged_data['free_throw_attempt_pg'] = (merged_data['fta'] / merged_data['games_played']).round(1)\n",
    "merged_data['3_point_attempt_pg'] = (merged_data['3pm'] / merged_data['games_played']).round(1)\n",
    "merged_data['3_point_made_pg'] = (merged_data['3pa'] / merged_data['games_played']).round(1)"
   ]
  },
  {
   "cell_type": "code",
   "execution_count": null,
   "metadata": {},
   "outputs": [],
   "source": [
    "# Chooses final columns\n",
    "merged_data = merged_data[[\n",
    "    'position', 'name', 'salary', 'team', 'fantasy_points_pg', 'games_played',\n",
    "    'games_started', 'minutes_pg', 'points_pg', 'field_goal_attempt_pg',\n",
    "    'field_goal_made_pg', 'fg%', 'free_throw_attempt_pg', 'free_throw_made_pg',\n",
    "    'ft%', '3_point_attempt_pg', '3_point_made_pg', '3fg%',\n",
    "    'rebound_pg', 'assist_pg', 'steal_pg', 'turnover_pg', 'block_pg'\n",
    "]]"
   ]
  },
  {
   "cell_type": "code",
   "execution_count": null,
   "metadata": {},
   "outputs": [],
   "source": [
    "merged_data.head(10)"
   ]
  }
 ],
 "metadata": {
  "kernelspec": {
   "display_name": "Python 3",
   "language": "python",
   "name": "python3"
  },
  "language_info": {
   "codemirror_mode": {
    "name": "ipython",
    "version": 3
   },
   "file_extension": ".py",
   "mimetype": "text/x-python",
   "name": "python",
   "nbconvert_exporter": "python",
   "pygments_lexer": "ipython3",
   "version": "3.7.4"
  }
 },
 "nbformat": 4,
 "nbformat_minor": 2
}
